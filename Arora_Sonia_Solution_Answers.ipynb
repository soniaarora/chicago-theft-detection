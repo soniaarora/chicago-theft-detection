{
 "cells": [
  {
   "cell_type": "markdown",
   "metadata": {},
   "source": [
    "# Chicago Theft Data Classification Model"
   ]
  },
  {
   "cell_type": "markdown",
   "metadata": {},
   "source": [
    "# Required Questions\n",
    "\n",
    "1. What is the accuracy of a naïve model that would always guess ‘THEFT’ and what is the accuracy of your\n",
    "model?\n",
    "\n",
    "**Using Multinomial NB model accuracy achieved 69% while using Random forest accuracy achieved 82%.**\n",
    "\n",
    "2. Are there any other metrics that you have computed to assess the performance of your model? If yes,\n",
    "discuss their values.\n",
    "\n",
    "**Yes, I compared different metrics like AUC, Precision, Recall of all models. In terms of accuracy Random Forest gives highest accuracy(82%). However accuracy would be misleading in this case since there is an 80:20 split in target variable therefore we compares recall metrics for each model and observed Naive Bayes performed better though the magnitude is not suffiecient enough for accurate predictions. In future I would try balancing my dataset and then run subsequent iterations to boost the recall magnitudes.**\n",
    "\n",
    "3. What approach did you use and why?\n",
    "\n",
    "**I started with exploratory analysis and observed there is a seasonal trend for July and August months. Based on this I created new features like month and day of week. From the EDA I also found that most of cases theft occur on Friday of the week. Also I select the categorical features for training my model and I started with basic naive model and then continue with logistic and random forest model.**\n",
    "\n",
    "4. How would you improve your model if you had another hour / another week at your disposal?\n",
    "\n",
    "**I would like to perform ensembling modeling techniques using output of my current models as input. Also I would give a try for boosting algorithms like GBM or AdaBoost.**"
   ]
  },
  {
   "cell_type": "code",
   "execution_count": 240,
   "metadata": {},
   "outputs": [],
   "source": [
    "import pandas as pd\n",
    "import numpy as np\n",
    "import matplotlib.pyplot as plt\n",
    "import seaborn as sns\n",
    "from sklearn.metrics import confusion_matrix, classification_report\n",
    "from sklearn.metrics import roc_curve, auc,roc_auc_score\n",
    "from sklearn.naive_bayes import MultinomialNB\n",
    "from sklearn.linear_model import LogisticRegression\n",
    "from sklearn.metrics import accuracy_score\n",
    "from sklearn.ensemble import RandomForestClassifier\n",
    "from sklearn.metrics import roc_curve, auc,roc_auc_score\n",
    "%matplotlib inline"
   ]
  },
  {
   "cell_type": "markdown",
   "metadata": {},
   "source": [
    "#### Read Input Data"
   ]
  },
  {
   "cell_type": "code",
   "execution_count": 66,
   "metadata": {},
   "outputs": [],
   "source": [
    "Data = pd.read_csv('chicago_crimes_data_2010_2017.csv')"
   ]
  },
  {
   "cell_type": "markdown",
   "metadata": {},
   "source": [
    "#### Encode Target Variable to binary Integer Values"
   ]
  },
  {
   "cell_type": "code",
   "execution_count": 67,
   "metadata": {},
   "outputs": [],
   "source": [
    "primaryType = []\n",
    "for i, row in Data.iterrows():\n",
    "    if(row['Primary Type'] == 'THEFT'):\n",
    "        primaryType.append(1)\n",
    "    else:\n",
    "        primaryType.append(0)"
   ]
  },
  {
   "cell_type": "code",
   "execution_count": 68,
   "metadata": {},
   "outputs": [],
   "source": [
    "Data = Data.drop(['Primary Type'], axis = 1)"
   ]
  },
  {
   "cell_type": "code",
   "execution_count": 69,
   "metadata": {},
   "outputs": [],
   "source": [
    "se = pd.Series(primaryType)\n",
    "Data['Primary Type'] = se.values"
   ]
  },
  {
   "cell_type": "markdown",
   "metadata": {},
   "source": [
    "#### Step to check Target Data split is balanced or not(22% were THEFT) so I don't think sampling technique was required here"
   ]
  },
  {
   "cell_type": "code",
   "execution_count": 255,
   "metadata": {},
   "outputs": [
    {
     "data": {
      "text/plain": [
       "0    379365\n",
       "1    108905\n",
       "Name: Primary Type, dtype: int64"
      ]
     },
     "execution_count": 255,
     "metadata": {},
     "output_type": "execute_result"
    }
   ],
   "source": [
    "Data['Primary Type'].value_counts()"
   ]
  },
  {
   "cell_type": "markdown",
   "metadata": {},
   "source": [
    "#### Dropped columns which won't be adding value to models"
   ]
  },
  {
   "cell_type": "code",
   "execution_count": 71,
   "metadata": {},
   "outputs": [],
   "source": [
    "Data = Data.drop(['Unnamed: 0','ID','Case Number',  'Block', 'IUCR','Beat'], axis = 1)"
   ]
  },
  {
   "cell_type": "markdown",
   "metadata": {},
   "source": [
    "#### Processed Input variables in appropriate format for the model "
   ]
  },
  {
   "cell_type": "code",
   "execution_count": 72,
   "metadata": {},
   "outputs": [],
   "source": [
    "mylist = list(Data.select_dtypes(include=['bool']).columns)"
   ]
  },
  {
   "cell_type": "code",
   "execution_count": 74,
   "metadata": {},
   "outputs": [],
   "source": [
    "for col in mylist:   \n",
    "    Data[col] = Data[col].astype('category')"
   ]
  },
  {
   "cell_type": "code",
   "execution_count": 80,
   "metadata": {},
   "outputs": [
    {
     "data": {
      "text/plain": [
       "Date                      object\n",
       "Description               object\n",
       "Location Description      object\n",
       "Arrest                  category\n",
       "Domestic                category\n",
       "District                 float64\n",
       "Ward                     float64\n",
       "Community Area           float64\n",
       "FBI Code                  object\n",
       "Latitude                 float64\n",
       "Longitude                float64\n",
       "Year                       int64\n",
       "train_or_test             object\n",
       "Primary Type               int64\n",
       "dtype: object"
      ]
     },
     "execution_count": 80,
     "metadata": {},
     "output_type": "execute_result"
    }
   ],
   "source": [
    "Data.dtypes"
   ]
  },
  {
   "cell_type": "code",
   "execution_count": 76,
   "metadata": {},
   "outputs": [],
   "source": [
    "cat_columns = Data.select_dtypes(['category']).columns"
   ]
  },
  {
   "cell_type": "code",
   "execution_count": 77,
   "metadata": {},
   "outputs": [],
   "source": [
    "Data[cat_columns] = Data[cat_columns].apply(lambda x: x.cat.codes)"
   ]
  },
  {
   "cell_type": "code",
   "execution_count": 79,
   "metadata": {},
   "outputs": [],
   "source": [
    "Data[cat_columns] = Data[cat_columns].astype('category')"
   ]
  },
  {
   "cell_type": "code",
   "execution_count": 96,
   "metadata": {},
   "outputs": [],
   "source": [
    "objectList = list(Data.select_dtypes(include=['float64']).columns)"
   ]
  },
  {
   "cell_type": "code",
   "execution_count": 99,
   "metadata": {},
   "outputs": [],
   "source": [
    "objectList.remove('Longitude')"
   ]
  },
  {
   "cell_type": "code",
   "execution_count": 100,
   "metadata": {},
   "outputs": [
    {
     "data": {
      "text/plain": [
       "['District', 'Ward', 'Community Area']"
      ]
     },
     "execution_count": 100,
     "metadata": {},
     "output_type": "execute_result"
    }
   ],
   "source": [
    "objectList "
   ]
  },
  {
   "cell_type": "code",
   "execution_count": 101,
   "metadata": {},
   "outputs": [],
   "source": [
    "for col in objectList:   \n",
    "    Data[col] = Data[col].astype('category')"
   ]
  },
  {
   "cell_type": "code",
   "execution_count": 107,
   "metadata": {},
   "outputs": [
    {
     "data": {
      "text/plain": [
       "Date                      object\n",
       "Description               object\n",
       "Location Description      object\n",
       "Arrest                  category\n",
       "Domestic                category\n",
       "District                category\n",
       "Ward                    category\n",
       "Community Area          category\n",
       "FBI Code                category\n",
       "Latitude                 float64\n",
       "Longitude                float64\n",
       "Year                       int64\n",
       "train_or_test             object\n",
       "Primary Type               int64\n",
       "Month                      int64\n",
       "dtype: object"
      ]
     },
     "execution_count": 107,
     "metadata": {},
     "output_type": "execute_result"
    }
   ],
   "source": [
    "Data.dtypes"
   ]
  },
  {
   "cell_type": "code",
   "execution_count": 103,
   "metadata": {},
   "outputs": [],
   "source": [
    "Data['FBI Code']= Data['FBI Code'].astype('category')"
   ]
  },
  {
   "cell_type": "markdown",
   "metadata": {},
   "source": [
    "#### Derived new features based on date columns"
   ]
  },
  {
   "cell_type": "code",
   "execution_count": 104,
   "metadata": {},
   "outputs": [],
   "source": [
    "Data['Month'] = pd.DatetimeIndex(Data['Date']).month"
   ]
  },
  {
   "cell_type": "code",
   "execution_count": 108,
   "metadata": {},
   "outputs": [],
   "source": [
    "Data['Date'] = pd.to_datetime(Data['Date'])\n",
    "Data['Day_week'] =Data['Date'].dt.weekday_name"
   ]
  },
  {
   "cell_type": "code",
   "execution_count": 109,
   "metadata": {},
   "outputs": [
    {
     "data": {
      "text/html": [
       "<div>\n",
       "<style scoped>\n",
       "    .dataframe tbody tr th:only-of-type {\n",
       "        vertical-align: middle;\n",
       "    }\n",
       "\n",
       "    .dataframe tbody tr th {\n",
       "        vertical-align: top;\n",
       "    }\n",
       "\n",
       "    .dataframe thead th {\n",
       "        text-align: right;\n",
       "    }\n",
       "</style>\n",
       "<table border=\"1\" class=\"dataframe\">\n",
       "  <thead>\n",
       "    <tr style=\"text-align: right;\">\n",
       "      <th></th>\n",
       "      <th>Date</th>\n",
       "      <th>Description</th>\n",
       "      <th>Location Description</th>\n",
       "      <th>Arrest</th>\n",
       "      <th>Domestic</th>\n",
       "      <th>District</th>\n",
       "      <th>Ward</th>\n",
       "      <th>Community Area</th>\n",
       "      <th>FBI Code</th>\n",
       "      <th>Latitude</th>\n",
       "      <th>Longitude</th>\n",
       "      <th>Year</th>\n",
       "      <th>train_or_test</th>\n",
       "      <th>Primary Type</th>\n",
       "      <th>Month</th>\n",
       "      <th>Day_week</th>\n",
       "    </tr>\n",
       "  </thead>\n",
       "  <tbody>\n",
       "    <tr>\n",
       "      <th>0</th>\n",
       "      <td>2012-11-22 11:00:00</td>\n",
       "      <td>TO VEHICLE</td>\n",
       "      <td>PARKING LOT/GARAGE(NON.RESID.)</td>\n",
       "      <td>0</td>\n",
       "      <td>0</td>\n",
       "      <td>25.0</td>\n",
       "      <td>36.0</td>\n",
       "      <td>18.0</td>\n",
       "      <td>14</td>\n",
       "      <td>41.923153</td>\n",
       "      <td>-87.802559</td>\n",
       "      <td>2012</td>\n",
       "      <td>train</td>\n",
       "      <td>0</td>\n",
       "      <td>11</td>\n",
       "      <td>Thursday</td>\n",
       "    </tr>\n",
       "    <tr>\n",
       "      <th>1</th>\n",
       "      <td>2011-12-28 21:17:00</td>\n",
       "      <td>UNLAWFUL POSS OF HANDGUN</td>\n",
       "      <td>SIDEWALK</td>\n",
       "      <td>1</td>\n",
       "      <td>0</td>\n",
       "      <td>5.0</td>\n",
       "      <td>34.0</td>\n",
       "      <td>53.0</td>\n",
       "      <td>15</td>\n",
       "      <td>41.679787</td>\n",
       "      <td>-87.627957</td>\n",
       "      <td>2011</td>\n",
       "      <td>train</td>\n",
       "      <td>0</td>\n",
       "      <td>12</td>\n",
       "      <td>Wednesday</td>\n",
       "    </tr>\n",
       "    <tr>\n",
       "      <th>2</th>\n",
       "      <td>2010-02-03 21:40:00</td>\n",
       "      <td>DOMESTIC BATTERY SIMPLE</td>\n",
       "      <td>RESIDENCE</td>\n",
       "      <td>0</td>\n",
       "      <td>1</td>\n",
       "      <td>10.0</td>\n",
       "      <td>28.0</td>\n",
       "      <td>30.0</td>\n",
       "      <td>08B</td>\n",
       "      <td>41.848314</td>\n",
       "      <td>-87.691627</td>\n",
       "      <td>2010</td>\n",
       "      <td>train</td>\n",
       "      <td>0</td>\n",
       "      <td>2</td>\n",
       "      <td>Wednesday</td>\n",
       "    </tr>\n",
       "    <tr>\n",
       "      <th>3</th>\n",
       "      <td>2011-06-21 13:10:00</td>\n",
       "      <td>STRONGARM - NO WEAPON</td>\n",
       "      <td>CTA BUS</td>\n",
       "      <td>0</td>\n",
       "      <td>0</td>\n",
       "      <td>22.0</td>\n",
       "      <td>19.0</td>\n",
       "      <td>75.0</td>\n",
       "      <td>03</td>\n",
       "      <td>41.692042</td>\n",
       "      <td>-87.665924</td>\n",
       "      <td>2011</td>\n",
       "      <td>train</td>\n",
       "      <td>0</td>\n",
       "      <td>6</td>\n",
       "      <td>Tuesday</td>\n",
       "    </tr>\n",
       "    <tr>\n",
       "      <th>4</th>\n",
       "      <td>2017-11-30 11:45:00</td>\n",
       "      <td>VEHICULAR HIJACKING</td>\n",
       "      <td>STREET</td>\n",
       "      <td>0</td>\n",
       "      <td>0</td>\n",
       "      <td>14.0</td>\n",
       "      <td>35.0</td>\n",
       "      <td>21.0</td>\n",
       "      <td>03</td>\n",
       "      <td>41.932040</td>\n",
       "      <td>-87.705287</td>\n",
       "      <td>2017</td>\n",
       "      <td>test</td>\n",
       "      <td>0</td>\n",
       "      <td>11</td>\n",
       "      <td>Thursday</td>\n",
       "    </tr>\n",
       "  </tbody>\n",
       "</table>\n",
       "</div>"
      ],
      "text/plain": [
       "                 Date               Description  \\\n",
       "0 2012-11-22 11:00:00                TO VEHICLE   \n",
       "1 2011-12-28 21:17:00  UNLAWFUL POSS OF HANDGUN   \n",
       "2 2010-02-03 21:40:00   DOMESTIC BATTERY SIMPLE   \n",
       "3 2011-06-21 13:10:00     STRONGARM - NO WEAPON   \n",
       "4 2017-11-30 11:45:00       VEHICULAR HIJACKING   \n",
       "\n",
       "             Location Description Arrest Domestic District  Ward  \\\n",
       "0  PARKING LOT/GARAGE(NON.RESID.)      0        0     25.0  36.0   \n",
       "1                        SIDEWALK      1        0      5.0  34.0   \n",
       "2                       RESIDENCE      0        1     10.0  28.0   \n",
       "3                         CTA BUS      0        0     22.0  19.0   \n",
       "4                          STREET      0        0     14.0  35.0   \n",
       "\n",
       "  Community Area FBI Code   Latitude  Longitude  Year train_or_test  \\\n",
       "0           18.0       14  41.923153 -87.802559  2012         train   \n",
       "1           53.0       15  41.679787 -87.627957  2011         train   \n",
       "2           30.0      08B  41.848314 -87.691627  2010         train   \n",
       "3           75.0       03  41.692042 -87.665924  2011         train   \n",
       "4           21.0       03  41.932040 -87.705287  2017          test   \n",
       "\n",
       "   Primary Type  Month   Day_week  \n",
       "0             0     11   Thursday  \n",
       "1             0     12  Wednesday  \n",
       "2             0      2  Wednesday  \n",
       "3             0      6    Tuesday  \n",
       "4             0     11   Thursday  "
      ]
     },
     "execution_count": 109,
     "metadata": {},
     "output_type": "execute_result"
    }
   ],
   "source": [
    "Data.head()"
   ]
  },
  {
   "cell_type": "code",
   "execution_count": 114,
   "metadata": {},
   "outputs": [],
   "source": [
    "Data = Data.drop(['Date','Description', 'Location Description'], axis = 1)"
   ]
  },
  {
   "cell_type": "code",
   "execution_count": 115,
   "metadata": {},
   "outputs": [],
   "source": [
    "Data = Data.drop(['Latitude','Longitude'], axis = 1)"
   ]
  },
  {
   "cell_type": "code",
   "execution_count": 116,
   "metadata": {},
   "outputs": [
    {
     "data": {
      "text/plain": [
       "Index(['Arrest', 'Domestic', 'District', 'Ward', 'Community Area', 'FBI Code',\n",
       "       'Year', 'train_or_test', 'Primary Type', 'Month', 'Day_week'],\n",
       "      dtype='object')"
      ]
     },
     "execution_count": 116,
     "metadata": {},
     "output_type": "execute_result"
    }
   ],
   "source": [
    "Data.columns"
   ]
  },
  {
   "cell_type": "code",
   "execution_count": 118,
   "metadata": {},
   "outputs": [
    {
     "data": {
      "text/plain": [
       "Arrest            category\n",
       "Domestic          category\n",
       "District          category\n",
       "Ward              category\n",
       "Community Area    category\n",
       "FBI Code          category\n",
       "Year                 int64\n",
       "train_or_test       object\n",
       "Primary Type         int64\n",
       "Month                int64\n",
       "Day_week            object\n",
       "dtype: object"
      ]
     },
     "execution_count": 118,
     "metadata": {},
     "output_type": "execute_result"
    }
   ],
   "source": [
    "Data.dtypes"
   ]
  },
  {
   "cell_type": "markdown",
   "metadata": {},
   "source": [
    "### Exploratory Data Analysis"
   ]
  },
  {
   "cell_type": "code",
   "execution_count": 273,
   "metadata": {},
   "outputs": [
    {
     "data": {
      "image/png": "[encoded data removed]",
      "text/plain": [
       "<Figure size 720x504 with 1 Axes>"
      ]
     },
     "metadata": {
      "needs_background": "light"
     },
     "output_type": "display_data"
    }
   ],
   "source": [
    "plt.figure(figsize=(10,7))\n",
    "year_dist_df = Data[\"Year\"].value_counts(ascending=True)\n",
    "ax_1 = year_dist_df.plot(kind='bar')\n",
    "plt.title(\"# of Cases by Year for all Primary types\")\n",
    "plt.show()"
   ]
  },
  {
   "cell_type": "markdown",
   "metadata": {},
   "source": []
  },
  {
   "cell_type": "code",
   "execution_count": 280,
   "metadata": {},
   "outputs": [
    {
     "data": {
      "text/plain": [
       "<Figure size 432x288 with 0 Axes>"
      ]
     },
     "metadata": {},
     "output_type": "display_data"
    },
    {
     "data": {
      "image/png": "[encoded data removed]",
      "text/plain": [
       "<Figure size 720x504 with 1 Axes>"
      ]
     },
     "metadata": {
      "needs_background": "light"
     },
     "output_type": "display_data"
    }
   ],
   "source": [
    "plt.clf()\n",
    "plt.figure(figsize=(10,7))\n",
    "data_theft = Data[Data['Primary Type'] == 1]\n",
    "year_dist_df = data_theft['Year'].value_counts(ascending=True)\n",
    "ax_1 = year_dist_df.plot(kind='bar')\n",
    "plt.title(\"# of Cases by Year for THEFT cases\")\n",
    "plt.show()\n"
   ]
  },
  {
   "cell_type": "code",
   "execution_count": 282,
   "metadata": {},
   "outputs": [
    {
     "data": {
      "text/plain": [
       "<Figure size 432x288 with 0 Axes>"
      ]
     },
     "metadata": {},
     "output_type": "display_data"
    },
    {
     "data": {
      "image/png": "[encoded data removed]",
      "text/plain": [
       "<Figure size 720x504 with 1 Axes>"
      ]
     },
     "metadata": {
      "needs_background": "light"
     },
     "output_type": "display_data"
    }
   ],
   "source": [
    "plt.clf()\n",
    "plt.figure(figsize=(10,7))\n",
    "data_theft = Data[Data['Primary Type'] == 1]\n",
    "year_dist_df = data_theft['Day_week'].value_counts(ascending=True)\n",
    "ax_1 = year_dist_df.plot(kind='bar')\n",
    "plt.title(\"# of Cases on week of the day for THEFT cases\")\n",
    "plt.show()\n"
   ]
  },
  {
   "cell_type": "code",
   "execution_count": null,
   "metadata": {},
   "outputs": [],
   "source": [
    "plt.clf()\n",
    "plt.figure(figsize=(10,7))\n",
    "data_theft = Data[Data['Primary Type'] == 1]\n",
    "year_dist_df = data_theft['Month'].value_counts(ascending=True)\n",
    "ax_1 = year_dist_df.plot(kind='bar')\n",
    "plt.title(\"# of Cases by Month for THEFT cases\")\n",
    "plt.show()"
   ]
  },
  {
   "cell_type": "code",
   "execution_count": 129,
   "metadata": {},
   "outputs": [],
   "source": [
    "convertCategory = ['Year','Primary Type','Month','Day_week' ]"
   ]
  },
  {
   "cell_type": "markdown",
   "metadata": {},
   "source": [
    "#### Created Train and Test Data for various model iterations"
   ]
  },
  {
   "cell_type": "code",
   "execution_count": 130,
   "metadata": {},
   "outputs": [],
   "source": [
    "for col in convertCategory:   \n",
    "    Data[col] = Data[col].astype('category')"
   ]
  },
  {
   "cell_type": "code",
   "execution_count": 178,
   "metadata": {},
   "outputs": [],
   "source": [
    "trainData = Data[Data['train_or_test'] == 'train']"
   ]
  },
  {
   "cell_type": "code",
   "execution_count": 179,
   "metadata": {},
   "outputs": [],
   "source": [
    "testData = Data[Data['train_or_test'] == 'test']"
   ]
  },
  {
   "cell_type": "code",
   "execution_count": 180,
   "metadata": {},
   "outputs": [],
   "source": [
    "trainData = trainData.drop(['train_or_test'], axis = 1)"
   ]
  },
  {
   "cell_type": "code",
   "execution_count": 181,
   "metadata": {},
   "outputs": [],
   "source": [
    "testData = testData.drop(['train_or_test'], axis = 1)"
   ]
  },
  {
   "cell_type": "code",
   "execution_count": 182,
   "metadata": {},
   "outputs": [],
   "source": [
    "trainData['Day_week'] = trainData['Day_week'].cat.codes"
   ]
  },
  {
   "cell_type": "code",
   "execution_count": 183,
   "metadata": {},
   "outputs": [],
   "source": [
    "trainData['Day_week'] = trainData['Day_week'].astype('category')"
   ]
  },
  {
   "cell_type": "code",
   "execution_count": 184,
   "metadata": {},
   "outputs": [],
   "source": [
    "testData['Day_week'] =testData['Day_week'].cat.codes"
   ]
  },
  {
   "cell_type": "code",
   "execution_count": 185,
   "metadata": {},
   "outputs": [],
   "source": [
    "testData['Day_week'] =testData['Day_week'].astype('category')"
   ]
  },
  {
   "cell_type": "code",
   "execution_count": 186,
   "metadata": {},
   "outputs": [],
   "source": [
    "trainData['FBI Code'] = trainData['FBI Code'].cat.codes"
   ]
  },
  {
   "cell_type": "code",
   "execution_count": 187,
   "metadata": {},
   "outputs": [],
   "source": [
    "trainData['FBI Code'] = trainData['FBI Code'].astype('category')"
   ]
  },
  {
   "cell_type": "code",
   "execution_count": 188,
   "metadata": {},
   "outputs": [],
   "source": [
    "testData['FBI Code'] = testData['FBI Code'].cat.codes"
   ]
  },
  {
   "cell_type": "code",
   "execution_count": 189,
   "metadata": {},
   "outputs": [],
   "source": [
    "testData['FBI Code'] = testData['FBI Code'].astype('category')"
   ]
  },
  {
   "cell_type": "markdown",
   "metadata": {},
   "source": [
    "#### Dropped null values from Training Data"
   ]
  },
  {
   "cell_type": "code",
   "execution_count": 198,
   "metadata": {},
   "outputs": [],
   "source": [
    "trainData = trainData.dropna()"
   ]
  },
  {
   "cell_type": "code",
   "execution_count": 200,
   "metadata": {},
   "outputs": [],
   "source": [
    "XTrain = trainData.loc[:,trainData.columns != 'Primary Type']"
   ]
  },
  {
   "cell_type": "code",
   "execution_count": 201,
   "metadata": {},
   "outputs": [],
   "source": [
    "YTrain = trainData[['Primary Type']]"
   ]
  },
  {
   "cell_type": "code",
   "execution_count": 205,
   "metadata": {},
   "outputs": [],
   "source": [
    "XTest = testData.loc[:,testData.columns != 'Primary Type']"
   ]
  },
  {
   "cell_type": "code",
   "execution_count": 206,
   "metadata": {},
   "outputs": [],
   "source": [
    "yTest = testData[['Primary Type']]"
   ]
  },
  {
   "cell_type": "markdown",
   "metadata": {},
   "source": [
    "### Model Evaluation: Comparing Various Metrics "
   ]
  },
  {
   "cell_type": "code",
   "execution_count": 288,
   "metadata": {},
   "outputs": [
    {
     "name": "stderr",
     "output_type": "stream",
     "text": [
      "C:\\Users\\Hp\\Anaconda3\\lib\\site-packages\\sklearn\\linear_model\\logistic.py:433: FutureWarning: Default solver will be changed to 'lbfgs' in 0.22. Specify a solver to silence this warning.\n",
      "  FutureWarning)\n",
      "C:\\Users\\Hp\\Anaconda3\\lib\\site-packages\\sklearn\\utils\\validation.py:761: DataConversionWarning: A column-vector y was passed when a 1d array was expected. Please change the shape of y to (n_samples, ), for example using ravel().\n",
      "  y = column_or_1d(y, warn=True)\n"
     ]
    },
    {
     "name": "stdout",
     "output_type": "stream",
     "text": [
      "Logistic Regression\n",
      "              precision    recall  f1-score   support\n",
      "\n",
      "           0       0.79      0.87      0.83     81737\n",
      "           1       0.37      0.24      0.29     25266\n",
      "\n",
      "   micro avg       0.72      0.72      0.72    107003\n",
      "   macro avg       0.58      0.56      0.56    107003\n",
      "weighted avg       0.69      0.72      0.70    107003\n",
      "\n"
     ]
    },
    {
     "name": "stderr",
     "output_type": "stream",
     "text": [
      "C:\\Users\\Hp\\Anaconda3\\lib\\site-packages\\sklearn\\utils\\validation.py:761: DataConversionWarning: A column-vector y was passed when a 1d array was expected. Please change the shape of y to (n_samples, ), for example using ravel().\n",
      "  y = column_or_1d(y, warn=True)\n"
     ]
    },
    {
     "name": "stdout",
     "output_type": "stream",
     "text": [
      "Multinomial Naive Bayes\n",
      "              precision    recall  f1-score   support\n",
      "\n",
      "           0       0.85      0.72      0.78     81737\n",
      "           1       0.39      0.58      0.47     25266\n",
      "\n",
      "   micro avg       0.69      0.69      0.69    107003\n",
      "   macro avg       0.62      0.65      0.62    107003\n",
      "weighted avg       0.74      0.69      0.70    107003\n",
      "\n"
     ]
    },
    {
     "name": "stderr",
     "output_type": "stream",
     "text": [
      "C:\\Users\\Hp\\Anaconda3\\lib\\site-packages\\ipykernel_launcher.py:19: DataConversionWarning: A column-vector y was passed when a 1d array was expected. Please change the shape of y to (n_samples,), for example using ravel().\n"
     ]
    },
    {
     "name": "stdout",
     "output_type": "stream",
     "text": [
      "Random Forest\n",
      "              precision    recall  f1-score   support\n",
      "\n",
      "           0       0.81      1.00      0.89     81737\n",
      "           1       1.00      0.23      0.38     25266\n",
      "\n",
      "   micro avg       0.82      0.82      0.82    107003\n",
      "   macro avg       0.90      0.62      0.64    107003\n",
      "weighted avg       0.85      0.82      0.77    107003\n",
      "\n"
     ]
    }
   ],
   "source": [
    "Accuracy = []\n",
    "\n",
    "models = [\n",
    "{\n",
    "    'label': 'Logistic Regression',\n",
    "    'model': LogisticRegression(),\n",
    "},\n",
    "{\n",
    "    'label': 'Multinomial Naive Bayes',\n",
    "    'model': MultinomialNB(),\n",
    "},\n",
    "{\n",
    "    'label': 'Random Forest',\n",
    "    'model': RandomForestClassifier(n_estimators=100, max_depth=2, random_state=0),\n",
    "}\n",
    "]\n",
    "for m in models:\n",
    "    model = m['model'] # select the model\n",
    "    model.fit(XTrain, YTrain) # train the model\n",
    "    y_pred=model.predict(XTest) # predict the test data\n",
    "    accuracy = accuracy_score(yTest,y_pred)\n",
    "    Accuracy.append(format(round(accuracy,2)))\n",
    "    \n",
    "    print(m['label'])\n",
    "    print(classification_report(yTest, y_pred))\n"
   ]
  },
  {
   "cell_type": "markdown",
   "metadata": {},
   "source": [
    "### Feature importance "
   ]
  },
  {
   "cell_type": "code",
   "execution_count": 287,
   "metadata": {},
   "outputs": [
    {
     "name": "stderr",
     "output_type": "stream",
     "text": [
      "C:\\Users\\Hp\\Anaconda3\\lib\\site-packages\\ipykernel_launcher.py:2: DataConversionWarning: A column-vector y was passed when a 1d array was expected. Please change the shape of y to (n_samples,), for example using ravel().\n",
      "  \n"
     ]
    },
    {
     "name": "stdout",
     "output_type": "stream",
     "text": [
      "[1.62630098e-01 1.57778579e-01 3.59349280e-02 6.63513168e-02\n",
      " 5.18970328e-02 5.24897219e-01 1.36111062e-04 3.74714767e-04\n",
      " 0.00000000e+00]\n"
     ]
    }
   ],
   "source": [
    "RF =  RandomForestClassifier(n_estimators=100, max_depth=2, random_state=0)\n",
    "model = RF.fit(XTrain, YTrain) # train the model\n",
    "y_pred=model.predict(XTest) # predict the test data\n",
    "print(RF.feature_importances_)\n"
   ]
  },
  {
   "cell_type": "code",
   "execution_count": 269,
   "metadata": {},
   "outputs": [],
   "source": [
    "Accuracy = list(map(float, Accuracy))"
   ]
  },
  {
   "cell_type": "code",
   "execution_count": 270,
   "metadata": {},
   "outputs": [
    {
     "data": {
      "text/plain": [
       "Text(0,0.5,'Accuracy')"
      ]
     },
     "execution_count": 270,
     "metadata": {},
     "output_type": "execute_result"
    },
    {
     "data": {
      "image/png": "[encoded data removed]",
      "text/plain": [
       "<Figure size 720x504 with 1 Axes>"
      ]
     },
     "metadata": {
      "needs_background": "light"
     },
     "output_type": "display_data"
    }
   ],
   "source": [
    "plt.figure(figsize=(10,7))\n",
    "X= ['Logistic Regression', 'Multinomial Naive Bayes', 'Random Forest']\n",
    "Y = Accuracy\n",
    "plt.bar(X, Y)\n",
    "\n",
    "plt.xlabel('Classifiers')\n",
    "plt.ylabel('Accuracy')\n"
   ]
  },
  {
   "cell_type": "markdown",
   "metadata": {},
   "source": [
    "### AUC of Models"
   ]
  },
  {
   "cell_type": "code",
   "execution_count": 285,
   "metadata": {},
   "outputs": [
    {
     "name": "stderr",
     "output_type": "stream",
     "text": [
      "C:\\Users\\Hp\\Anaconda3\\lib\\site-packages\\sklearn\\linear_model\\logistic.py:433: FutureWarning: Default solver will be changed to 'lbfgs' in 0.22. Specify a solver to silence this warning.\n",
      "  FutureWarning)\n",
      "C:\\Users\\Hp\\Anaconda3\\lib\\site-packages\\sklearn\\utils\\validation.py:761: DataConversionWarning: A column-vector y was passed when a 1d array was expected. Please change the shape of y to (n_samples, ), for example using ravel().\n",
      "  y = column_or_1d(y, warn=True)\n",
      "C:\\Users\\Hp\\Anaconda3\\lib\\site-packages\\sklearn\\utils\\validation.py:761: DataConversionWarning: A column-vector y was passed when a 1d array was expected. Please change the shape of y to (n_samples, ), for example using ravel().\n",
      "  y = column_or_1d(y, warn=True)\n",
      "C:\\Users\\Hp\\Anaconda3\\lib\\site-packages\\ipykernel_launcher.py:20: DataConversionWarning: A column-vector y was passed when a 1d array was expected. Please change the shape of y to (n_samples,), for example using ravel().\n"
     ]
    },
    {
     "data": {
      "image/png": "[encoded data removed]",
      "text/plain": [
       "<Figure size 720x504 with 1 Axes>"
      ]
     },
     "metadata": {
      "needs_background": "light"
     },
     "output_type": "display_data"
    }
   ],
   "source": [
    "plt.figure(figsize=(10,7))\n",
    "models = [\n",
    "{\n",
    "    'label': 'Logistic Regression',\n",
    "    'model': LogisticRegression(),\n",
    "},\n",
    "{\n",
    "    'label': 'Multinomial Naive Bayes',\n",
    "    'model': MultinomialNB(),\n",
    "},\n",
    "{\n",
    "    'label': 'Random Forest',\n",
    "    'model': RandomForestClassifier(n_estimators=100, max_depth=2, random_state=0),\n",
    "}\n",
    "]\n",
    "\n",
    "# Below for loop iterates through your models list\n",
    "for m in models:\n",
    "    model = m['model'] # select the model\n",
    "    model.fit(XTrain, YTrain) # train the model\n",
    "    y_pred=model.predict(XTest) # predict the test data\n",
    "# Compute False postive rate, and True positive rate\n",
    "    fpr, tpr, thresholds = roc_curve(yTest, model.predict_proba(XTest)[:,1])\n",
    "# Calculate Area under the curve to display on the plot\n",
    "    auc = roc_auc_score(yTest,model.predict(XTest))\n",
    "# Now, plot the computed values\n",
    "    plt.plot(fpr, tpr, label='%s ROC (area = %0.2f)' % (m['label'], auc))\n",
    "# Custom settings for the plot \n",
    "\n",
    "plt.plot([0, 1], [0, 1],'r--')\n",
    "plt.xlim([0.0, 1.0])\n",
    "plt.ylim([0.0, 1.05])\n",
    "plt.xlabel('1-Specificity(False Positive Rate)')\n",
    "plt.ylabel('Sensitivity(True Positive Rate)')\n",
    "plt.title('Receiver Operating Characteristic')\n",
    "plt.legend(loc=\"lower right\")\n",
    "plt.show()   # Display"
   ]
  },
  {
   "cell_type": "code",
   "execution_count": null,
   "metadata": {},
   "outputs": [],
   "source": []
  }
 ],
 "metadata": {
  "kernelspec": {
   "display_name": "Python 3",
   "language": "python",
   "name": "python3"
  },
  "language_info": {
   "codemirror_mode": {
    "name": "ipython",
    "version": 3
   },
   "file_extension": ".py",
   "mimetype": "text/x-python",
   "name": "python",
   "nbconvert_exporter": "python",
   "pygments_lexer": "ipython3",
   "version": "3.6.6"
  }
 },
 "nbformat": 4,
 "nbformat_minor": 2
}
